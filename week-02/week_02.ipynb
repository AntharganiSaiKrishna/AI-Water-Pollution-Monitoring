{
 "cells": [
  {
   "cell_type": "code",
   "execution_count": 4,
   "id": "d4f13e56-e915-42e9-9210-45257dc0e875",
   "metadata": {},
   "outputs": [],
   "source": [
    "# Basic Libraries\n",
    "import pandas as pd\n",
    "import numpy as np\n",
    "\n",
    "# Visualization\n",
    "import matplotlib.pyplot as plt\n",
    "import seaborn as sns\n",
    "\n",
    "# Preprocessing & Model Training\n",
    "from sklearn.model_selection import train_test_split\n",
    "from sklearn.preprocessing import StandardScaler, LabelEncoder\n",
    "from sklearn.metrics import accuracy_score, classification_report, confusion_matrix\n",
    "from sklearn.linear_model import LogisticRegression\n",
    "from sklearn.ensemble import RandomForestClassifier\n",
    "from sklearn.tree import DecisionTreeClassifier"
   ]
  },
  {
   "cell_type": "code",
   "execution_count": 5,
   "id": "01749995-6a50-4f62-adfa-b135b4af04d0",
   "metadata": {},
   "outputs": [
    {
     "data": {
      "text/html": [
       "<div>\n",
       "<style scoped>\n",
       "    .dataframe tbody tr th:only-of-type {\n",
       "        vertical-align: middle;\n",
       "    }\n",
       "\n",
       "    .dataframe tbody tr th {\n",
       "        vertical-align: top;\n",
       "    }\n",
       "\n",
       "    .dataframe thead th {\n",
       "        text-align: right;\n",
       "    }\n",
       "</style>\n",
       "<table border=\"1\" class=\"dataframe\">\n",
       "  <thead>\n",
       "    <tr style=\"text-align: right;\">\n",
       "      <th></th>\n",
       "      <th>Timestamp</th>\n",
       "      <th>Location</th>\n",
       "      <th>pH</th>\n",
       "      <th>Turbidity (NTU)</th>\n",
       "      <th>Temperature (°C)</th>\n",
       "      <th>DO (mg/L)</th>\n",
       "      <th>BOD (mg/L)</th>\n",
       "      <th>Lead (mg/L)</th>\n",
       "      <th>Mercury (mg/L)</th>\n",
       "      <th>Arsenic (mg/L)</th>\n",
       "      <th>Pollution_Level</th>\n",
       "    </tr>\n",
       "  </thead>\n",
       "  <tbody>\n",
       "    <tr>\n",
       "      <th>0</th>\n",
       "      <td>2024-01-01 00:00:00</td>\n",
       "      <td>L4</td>\n",
       "      <td>8.762414</td>\n",
       "      <td>14.468306</td>\n",
       "      <td>16.461631</td>\n",
       "      <td>6.258335</td>\n",
       "      <td>2.478582</td>\n",
       "      <td>0.002801</td>\n",
       "      <td>0.001924</td>\n",
       "      <td>0.018769</td>\n",
       "      <td>2</td>\n",
       "    </tr>\n",
       "    <tr>\n",
       "      <th>1</th>\n",
       "      <td>2024-01-01 01:00:00</td>\n",
       "      <td>L5</td>\n",
       "      <td>7.477966</td>\n",
       "      <td>1.905645</td>\n",
       "      <td>27.446865</td>\n",
       "      <td>2.826120</td>\n",
       "      <td>8.048453</td>\n",
       "      <td>0.019551</td>\n",
       "      <td>0.000633</td>\n",
       "      <td>0.003708</td>\n",
       "      <td>2</td>\n",
       "    </tr>\n",
       "    <tr>\n",
       "      <th>2</th>\n",
       "      <td>2024-01-01 02:00:00</td>\n",
       "      <td>L3</td>\n",
       "      <td>7.938278</td>\n",
       "      <td>1.889506</td>\n",
       "      <td>34.623557</td>\n",
       "      <td>3.380191</td>\n",
       "      <td>2.102481</td>\n",
       "      <td>0.019291</td>\n",
       "      <td>0.000205</td>\n",
       "      <td>0.005055</td>\n",
       "      <td>2</td>\n",
       "    </tr>\n",
       "    <tr>\n",
       "      <th>3</th>\n",
       "      <td>2024-01-01 03:00:00</td>\n",
       "      <td>L5</td>\n",
       "      <td>8.728748</td>\n",
       "      <td>0.736115</td>\n",
       "      <td>18.802153</td>\n",
       "      <td>6.543794</td>\n",
       "      <td>6.714160</td>\n",
       "      <td>0.003358</td>\n",
       "      <td>0.001058</td>\n",
       "      <td>0.005638</td>\n",
       "      <td>2</td>\n",
       "    </tr>\n",
       "    <tr>\n",
       "      <th>4</th>\n",
       "      <td>2024-01-01 04:00:00</td>\n",
       "      <td>L5</td>\n",
       "      <td>7.975335</td>\n",
       "      <td>19.151777</td>\n",
       "      <td>30.851902</td>\n",
       "      <td>4.370861</td>\n",
       "      <td>2.114614</td>\n",
       "      <td>0.006059</td>\n",
       "      <td>0.000124</td>\n",
       "      <td>0.001237</td>\n",
       "      <td>2</td>\n",
       "    </tr>\n",
       "  </tbody>\n",
       "</table>\n",
       "</div>"
      ],
      "text/plain": [
       "             Timestamp Location        pH  Turbidity (NTU)  Temperature (°C)  \\\n",
       "0  2024-01-01 00:00:00       L4  8.762414        14.468306         16.461631   \n",
       "1  2024-01-01 01:00:00       L5  7.477966         1.905645         27.446865   \n",
       "2  2024-01-01 02:00:00       L3  7.938278         1.889506         34.623557   \n",
       "3  2024-01-01 03:00:00       L5  8.728748         0.736115         18.802153   \n",
       "4  2024-01-01 04:00:00       L5  7.975335        19.151777         30.851902   \n",
       "\n",
       "   DO (mg/L)  BOD (mg/L)  Lead (mg/L)  Mercury (mg/L)  Arsenic (mg/L)  \\\n",
       "0   6.258335    2.478582     0.002801        0.001924        0.018769   \n",
       "1   2.826120    8.048453     0.019551        0.000633        0.003708   \n",
       "2   3.380191    2.102481     0.019291        0.000205        0.005055   \n",
       "3   6.543794    6.714160     0.003358        0.001058        0.005638   \n",
       "4   4.370861    2.114614     0.006059        0.000124        0.001237   \n",
       "\n",
       "   Pollution_Level  \n",
       "0                2  \n",
       "1                2  \n",
       "2                2  \n",
       "3                2  \n",
       "4                2  "
      ]
     },
     "execution_count": 5,
     "metadata": {},
     "output_type": "execute_result"
    }
   ],
   "source": [
    "# Load dataset\n",
    "df = pd.read_csv(\"Water_Quality_Dataset.csv\")\n",
    "\n",
    "# Show first 5 rows\n",
    "df.head()"
   ]
  },
  {
   "cell_type": "code",
   "execution_count": 6,
   "id": "d011419e-62a8-4643-bfcc-352b3cb9d87d",
   "metadata": {},
   "outputs": [
    {
     "name": "stdout",
     "output_type": "stream",
     "text": [
      "Dataset Shape: (1000, 11)\n",
      "\n",
      "Dataset Info:\n",
      "\n",
      "<class 'pandas.core.frame.DataFrame'>\n",
      "RangeIndex: 1000 entries, 0 to 999\n",
      "Data columns (total 11 columns):\n",
      " #   Column            Non-Null Count  Dtype  \n",
      "---  ------            --------------  -----  \n",
      " 0   Timestamp         1000 non-null   object \n",
      " 1   Location          1000 non-null   object \n",
      " 2   pH                1000 non-null   float64\n",
      " 3   Turbidity (NTU)   1000 non-null   float64\n",
      " 4   Temperature (°C)  1000 non-null   float64\n",
      " 5   DO (mg/L)         1000 non-null   float64\n",
      " 6   BOD (mg/L)        1000 non-null   float64\n",
      " 7   Lead (mg/L)       1000 non-null   float64\n",
      " 8   Mercury (mg/L)    1000 non-null   float64\n",
      " 9   Arsenic (mg/L)    1000 non-null   float64\n",
      " 10  Pollution_Level   1000 non-null   int64  \n",
      "dtypes: float64(8), int64(1), object(2)\n",
      "memory usage: 86.1+ KB\n",
      "None\n",
      "\n",
      "Missing Values:\n",
      " Timestamp           0\n",
      "Location            0\n",
      "pH                  0\n",
      "Turbidity (NTU)     0\n",
      "Temperature (°C)    0\n",
      "DO (mg/L)           0\n",
      "BOD (mg/L)          0\n",
      "Lead (mg/L)         0\n",
      "Mercury (mg/L)      0\n",
      "Arsenic (mg/L)      0\n",
      "Pollution_Level     0\n",
      "dtype: int64\n"
     ]
    }
   ],
   "source": [
    "# Shape and column details\n",
    "print(\"Dataset Shape:\", df.shape)\n",
    "print(\"\\nDataset Info:\\n\")\n",
    "print(df.info())\n",
    "\n",
    "# Check missing values\n",
    "print(\"\\nMissing Values:\\n\", df.isnull().sum())\n"
   ]
  },
  {
   "cell_type": "code",
   "execution_count": 7,
   "id": "9b12efac-cefb-4582-a30b-aec82240dab2",
   "metadata": {},
   "outputs": [
    {
     "name": "stdout",
     "output_type": "stream",
     "text": [
      "✅ Missing values handled!\n"
     ]
    }
   ],
   "source": [
    "# Fill numeric missing values with median\n",
    "for col in df.select_dtypes(include=[np.number]).columns:\n",
    "    df[col] = df[col].fillna(df[col].median())\n",
    "\n",
    "# Fill categorical missing values with mode\n",
    "for col in df.select_dtypes(include=['object']).columns:\n",
    "    df[col] = df[col].fillna(df[col].mode()[0])\n",
    "\n",
    "print(\"✅ Missing values handled!\")"
   ]
  },
  {
   "cell_type": "code",
   "execution_count": 8,
   "id": "9113cd2d-734e-4272-bae8-c33b23a0944b",
   "metadata": {},
   "outputs": [
    {
     "name": "stdout",
     "output_type": "stream",
     "text": [
      "Encoded Classes: {0: 0, 1: 1, 2: 2}\n"
     ]
    }
   ],
   "source": [
    "# Assume dataset has a \"Pollution_Level\" column (Safe/Moderate/Polluted)\n",
    "# Adjust column name if different\n",
    "\n",
    "label_encoder = LabelEncoder()\n",
    "df[\"Pollution_Level\"] = label_encoder.fit_transform(df[\"Pollution_Level\"])\n",
    "\n",
    "print(\"Encoded Classes:\", dict(zip(label_encoder.classes_, label_encoder.transform(label_encoder.classes_))))"
   ]
  },
  {
   "cell_type": "code",
   "execution_count": 9,
   "id": "f9e8e955-6ce8-4d47-a24e-0b9a1125ef36",
   "metadata": {},
   "outputs": [
    {
     "name": "stdout",
     "output_type": "stream",
     "text": [
      "Training Shape: (800, 10)\n",
      "Testing Shape: (200, 10)\n"
     ]
    }
   ],
   "source": [
    "X = df.drop(\"Pollution_Level\", axis=1)\n",
    "y = df[\"Pollution_Level\"]\n",
    "\n",
    "# Train-Test Split\n",
    "X_train, X_test, y_train, y_test = train_test_split(X, y, test_size=0.2, random_state=42)\n",
    "\n",
    "print(\"Training Shape:\", X_train.shape)\n",
    "print(\"Testing Shape:\", X_test.shape)"
   ]
  },
  {
   "cell_type": "code",
   "execution_count": 11,
   "id": "72c7bc0a-f9f6-464a-83dc-1d2e3a0c1235",
   "metadata": {},
   "outputs": [
    {
     "name": "stdout",
     "output_type": "stream",
     "text": [
      "✅ Training ready! Features used: ['Location', 'pH', 'Turbidity (NTU)', 'Temperature (°C)', 'DO (mg/L)', 'BOD (mg/L)', 'Lead (mg/L)', 'Mercury (mg/L)', 'Arsenic (mg/L)']\n"
     ]
    }
   ],
   "source": [
    "# --- Handle Categorical Feature (Location) ---\n",
    "df[\"Location\"] = LabelEncoder().fit_transform(df[\"Location\"])\n",
    "\n",
    "# --- Separate Features & Target ---\n",
    "X = df.drop([\"Pollution_Level\", \"Timestamp\"], axis=1)  # drop target + timestamp (not for training)\n",
    "y = df[\"Pollution_Level\"]\n",
    "\n",
    "# --- Train-Test Split ---\n",
    "X_train, X_test, y_train, y_test = train_test_split(X, y, test_size=0.2, random_state=42)\n",
    "\n",
    "# --- Feature Scaling ---\n",
    "scaler = StandardScaler()\n",
    "X_train_scaled = scaler.fit_transform(X_train)\n",
    "X_test_scaled = scaler.transform(X_test)\n",
    "\n",
    "print(\"✅ Training ready! Features used:\", X.columns.tolist())"
   ]
  },
  {
   "cell_type": "code",
   "execution_count": 13,
   "id": "9ecd2cb6-0d0a-4b08-b821-b64e69e8e3b2",
   "metadata": {},
   "outputs": [
    {
     "name": "stdout",
     "output_type": "stream",
     "text": [
      "\n",
      "📌 Logistic Regression Accuracy: 0.93\n",
      "              precision    recall  f1-score   support\n",
      "\n",
      "           1       0.50      0.29      0.36        14\n",
      "           2       0.95      0.98      0.96       186\n",
      "\n",
      "    accuracy                           0.93       200\n",
      "   macro avg       0.72      0.63      0.66       200\n",
      "weighted avg       0.92      0.93      0.92       200\n",
      "\n",
      "\n",
      "📌 Decision Tree Accuracy: 0.99\n",
      "              precision    recall  f1-score   support\n",
      "\n",
      "           0       0.00      0.00      0.00         0\n",
      "           1       0.93      0.93      0.93        14\n",
      "           2       1.00      0.99      1.00       186\n",
      "\n",
      "    accuracy                           0.99       200\n",
      "   macro avg       0.64      0.64      0.64       200\n",
      "weighted avg       0.99      0.99      0.99       200\n",
      "\n",
      "\n",
      "📌 Random Forest Accuracy: 0.99\n",
      "              precision    recall  f1-score   support\n",
      "\n",
      "           1       1.00      0.93      0.96        14\n",
      "           2       0.99      1.00      1.00       186\n",
      "\n",
      "    accuracy                           0.99       200\n",
      "   macro avg       1.00      0.96      0.98       200\n",
      "weighted avg       1.00      0.99      0.99       200\n",
      "\n"
     ]
    }
   ],
   "source": [
    "# Initialize models\n",
    "models = {\n",
    "    \"Logistic Regression\": LogisticRegression(max_iter=1000),\n",
    "    \"Decision Tree\": DecisionTreeClassifier(random_state=42),\n",
    "    \"Random Forest\": RandomForestClassifier(n_estimators=100, random_state=42)\n",
    "}\n",
    "\n",
    "# Train & Evaluate\n",
    "results = {}\n",
    "for name, model in models.items():\n",
    "    model.fit(X_train_scaled, y_train)\n",
    "    y_pred = model.predict(X_test_scaled)\n",
    "    acc = accuracy_score(y_test, y_pred)\n",
    "    results[name] = acc\n",
    "    print(f\"\\n📌 {name} Accuracy: {acc:.2f}\")\n",
    "    print(classification_report(y_test, y_pred, zero_division=0))\n"
   ]
  },
  {
   "cell_type": "code",
   "execution_count": 14,
   "id": "5eb820da-60bf-4c35-882b-ca5ce1ffa968",
   "metadata": {},
   "outputs": [
    {
     "data": {
      "image/png": "[encoded data removed]",
      "text/plain": [
       "<Figure size 1200x400 with 6 Axes>"
      ]
     },
     "metadata": {},
     "output_type": "display_data"
    }
   ],
   "source": [
    "import matplotlib.pyplot as plt\n",
    "import seaborn as sns\n",
    "from sklearn.metrics import confusion_matrix\n",
    "\n",
    "labels = [\"Safe\", \"Moderate\", \"Polluted\"]  # adjust if needed\n",
    "\n",
    "plt.figure(figsize=(12,4))\n",
    "\n",
    "for i, (name, model) in enumerate(models.items()):\n",
    "    y_pred = model.predict(X_test_scaled)\n",
    "    cm = confusion_matrix(y_test, y_pred)\n",
    "\n",
    "    plt.subplot(1, 3, i+1)\n",
    "    sns.heatmap(cm, annot=True, fmt='d', cmap=\"Blues\", xticklabels=labels, yticklabels=labels)\n",
    "    plt.title(f\"{name} Confusion Matrix\")\n",
    "\n",
    "plt.tight_layout()\n",
    "plt.show()"
   ]
  },
  {
   "cell_type": "code",
   "execution_count": 15,
   "id": "99d9533e-bbb6-4fbd-807c-91abae552bde",
   "metadata": {},
   "outputs": [
    {
     "name": "stdout",
     "output_type": "stream",
     "text": [
      "✅ Cleaned dataset saved as Week2_Cleaned_Dataset.csv\n"
     ]
    }
   ],
   "source": [
    "df.to_csv(\"Week2_Cleaned_Dataset.csv\", index=False)\n",
    "print(\"✅ Cleaned dataset saved as Week2_Cleaned_Dataset.csv\")"
   ]
  },
  {
   "cell_type": "code",
   "execution_count": null,
   "id": "63f26db6-fba4-433d-b964-62304c75432f",
   "metadata": {},
   "outputs": [],
   "source": []
  }
 ],
 "metadata": {
  "kernelspec": {
   "display_name": "Python 3 (ipykernel)",
   "language": "python",
   "name": "python3"
  },
  "language_info": {
   "codemirror_mode": {
    "name": "ipython",
    "version": 3
   },
   "file_extension": ".py",
   "mimetype": "text/x-python",
   "name": "python",
   "nbconvert_exporter": "python",
   "pygments_lexer": "ipython3",
   "version": "3.11.0"
  }
 },
 "nbformat": 4,
 "nbformat_minor": 5
}
